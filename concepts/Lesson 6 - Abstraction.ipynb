{
 "cells": [
  {
   "cell_type": "markdown",
   "id": "00a04eba-31e2-47d7-a05b-f173a8ad6281",
   "metadata": {},
   "source": [
    "# Lesson 6: Abstraction – Hiding Complexity with Interfaces\r\n",
    "Abstraction is the fourth and final pillar of object-oriented programming. It involves hiding the complex implementation details of a class while exposing only the essential features through a simplified interface.\n",
    "\n",
    "This principle allows users of a class to interact with it without needing to understand its internal workings, which reduces complexity and promotes modular design. Abstraction focuses on what an object does rather than how it does it, enabling developers to define contracts that subclasses must follow.\n",
    "\n",
    "---\r\n",
    "## Definition and Basic Syntax\r\n",
    "In Python, abstraction is implemented using abstract base classes (ABCs) from the **`abc`** module. An abstract base class defines a blueprint for other classes by specifying methods that must be implemented, without providing the full implementation itself. Subclasses are required to override these abstract methods to become concrete and usable. This enforces a consistent interface across related classes, ensuring that all subclasses provide the expected behaviors.\n",
    "\n",
    "The syntax begins with importing **`ABC`** and abstractmethod from abc. A class becomes an abstract base class by inheriting from **`ABC`** and decorating abstract methods with **`@abstractmethod`**. For example, the syntax is:\n",
    "\n",
    "```python\n",
    "from abc import ABC, abstractmethod\n",
    "\n",
    "class AbstractClassName(ABC):\n",
    "    @abstractmethod\n",
    "    def abstract_method(self):\n",
    "        pass  # No implementation; subclasses must provide one\n",
    "```\n",
    "\n",
    "Concrete subclasses inherit from the abstract class and implement all abstract methods. Attempting to instantiate an abstract class raises a `TypeError`, ensuring it serves only as a template.\n",
    "\n",
    "Abstraction can also involve concrete methods in the ABC for shared logic, but the key is the enforced interface. This differs from encapsulation, which hides data within a single class; abstraction hides details across a hierarchy.\r\n",
    "\r\n",
    "\r\n",
    "\r\n",
    "\r\n",
    "\r\n",
    "\r\n"
   ]
  },
  {
   "cell_type": "markdown",
   "id": "18f41d47-57ce-4cdd-a6b3-d230b0831ebe",
   "metadata": {},
   "source": [
    "---\n",
    "\n",
    "## How Abstraction Works Step by Step\n",
    "\n",
    "When you define an abstract method in an ABC, Python marks the class as abstract. Subclasses must implement every abstract method before they can be instantiated. The process follows these steps:\n",
    "\n",
    "1. Define the **Abstract Base Class (ABC)** with **`@abstractmethod`** on methods that require implementation.  \n",
    "2. Create **subclasses** that inherit from the ABC.  \n",
    "3. In each subclass, provide **concrete implementations** for all abstract methods.  \n",
    "4. Use the subclasses **polymorphically**, as they now conform to the abstract interface\n",
    "\n",
    "If a subclass fails to implement an abstract method, Python raises a `TypeError` upon instantiation. This enforcement promotes reliability, as all objects adhering to the interface behave predictably. In our Library Management System, abstraction can define a User ABC requiring a `status_report` method, ensuring `Person` and `Librarian` (as subclasses) provide it uniformly.\n",
    ".\r\n",
    "\r",
    "\r\n",
    "\r\n"
   ]
  },
  {
   "cell_type": "markdown",
   "id": "2d0d5a23-8bb9-4508-9a1b-61d6bb70b626",
   "metadata": {},
   "source": [
    "---\n",
    "\n",
    "## Example: Applying Abstraction to the Library System\r\n",
    "Create a `User` abstract base class that enforces a `status_report` method for all user types. Then, make `Person` and `Librarian` inherit from `User` (instead of directly from `Person`), implementing the abstract method. This abstracts the common user interface while allowing polymorphic use.\n",
    "\n",
    "Here is the code for this example, integrating with your existing classes:\r\n",
    "\r\n",
    "\r\n"
   ]
  },
  {
   "cell_type": "code",
   "execution_count": 8,
   "id": "43756424-9042-425f-a874-8673cf8ace5f",
   "metadata": {},
   "outputs": [
    {
     "name": "stdout",
     "output_type": "stream",
     "text": [
      "Member MEM001: Alice has 0 books checked out.\n",
      "Member MEM002: Jordan has 0 books checked out. Managing 0 books in inventory.\n",
      "Student STU001: Sam with 4.0.\n"
     ]
    }
   ],
   "source": [
    "from abc import ABC, abstractmethod\n",
    "\n",
    "class User(ABC):\n",
    "    \"\"\"Abstract base class defining the user interface.\"\"\"\n",
    "    \n",
    "    @abstractmethod\n",
    "    def status_report(self):\n",
    "        \"\"\"Subclasses must implement this to provide a status summary.\"\"\"\n",
    "        pass  # No implementation; forces override\n",
    "\n",
    "class Person(User):  # Inherits from User (abstract)\n",
    "    \"\"\"Represents a library patron.\"\"\"\n",
    "    library_name = \"Central Library\"\n",
    "    member_count = 0\n",
    "    \n",
    "    def __init__(self, name, email):\n",
    "        self.name = name\n",
    "        self._email = email\n",
    "        self._books_checked_out = []\n",
    "        self.member_id = f\"MEM{str(Person.member_count + 1).zfill(3)}\"\n",
    "        Person.member_count += 1\n",
    "    \n",
    "    # Include your full methods: email property, introduce, add_book, status_report (as in Assignment 4)\n",
    "    # For status_report here:\n",
    "    def status_report(self):  # Concrete implementation of abstract method\n",
    "        return f\"Member {self.member_id}: {self.name} has {len(self._books_checked_out)} books checked out.\"\n",
    "\n",
    "class Librarian(Person):  # Inherits from Person (which satisfies User)\n",
    "    \"\"\"Represents a library staff member.\"\"\"\n",
    "    staff_count = 0\n",
    "    \n",
    "    def __init__(self, name, email, staff_id=None):\n",
    "        super().__init__(name, email)  # Calls Person.__init__ (sets name, _email, _books_checked_out, member_id)\n",
    "        self._library_inventory = []\n",
    "        self.staff_id = staff_id if staff_id else f\"LIB{str(Librarian.staff_count + 1).zfill(3)}\"\n",
    "        if not staff_id:\n",
    "            Librarian.staff_count += 1\n",
    "    \n",
    "    # Include your full methods: introduce, add_new_book, view_inventory, status_report (as in Assignment 4)\n",
    "    # For status_report here:\n",
    "    def status_report(self):  # Concrete implementation of abstract method\n",
    "        base_report = super().status_report()  # Uses inherited _books_checked_out\n",
    "        return f\"{base_report} Managing {len(self._library_inventory)} books in inventory.\"\n",
    "\n",
    "class Student(User):\n",
    "\n",
    "    def __init__(self, name, student_id, grades):\n",
    "        self.name = name\n",
    "        self.student_id = student_id\n",
    "        self.grades = grades\n",
    "\n",
    "    def status_report(self):\n",
    "        return f\"Student {self.student_id}: {self.name} with {self.grades}.\"\n",
    "\n",
    "# Test abstraction and polymorphism\n",
    "def generate_reports(users_list):\n",
    "    reports = []\n",
    "    for user in users_list:\n",
    "        if isinstance(user, User):  # Optional check for abstract interface\n",
    "            reports.append(user.status_report())\n",
    "    return reports\n",
    "\n",
    "# Create instances (concrete subclasses only)\n",
    "alice = Person(\"Alice\", \"alice@email.com\")\n",
    "jordan = Librarian(\"Jordan\", \"jordan@library.com\")\n",
    "sam = Student(\"Sam\", \"STU001\", \"4.0\")\n",
    "\n",
    "# Mixed list works due to shared abstract interface\n",
    "users = [alice, jordan, sam]\n",
    "reports = generate_reports(users)\n",
    "for report in reports:\n",
    "    print(report)"
   ]
  },
  {
   "cell_type": "markdown",
   "id": "c79947e3-fdb4-4063-ba27-c842b95b3350",
   "metadata": {},
   "source": [
    "\n"
   ]
  },
  {
   "cell_type": "markdown",
   "id": "1125f6ee-5bda-47b0-9b40-53afa71599b9",
   "metadata": {},
   "source": [
    "**In this code:**  \n",
    "- **`User(ABC)`** defines the abstract **`status_report`** method with **`@abstractmethod`**, providing no implementation.  \n",
    "- **`Person(User)`** and **`Librarian(User)`** implement **`status_report`** concretely, satisfying the abstract requirement.  \n",
    "- Instantiating **`User`** directly would raise `TypeError: Can't instantiate abstract class User with abstract method status_report`.  \n",
    "- The **`generate_reports`** function uses the abstract interface polymorphically: It calls **`status_report`** on any **`User`** subclass, dispatching to the correct implementation.  \n",
    "- **Outputs:** The same as Assignment 4, but now enforced by abstraction (e.g., future subclasses must implement **`status_report`**.\n",
    ").\r\n",
    "\r"
   ]
  },
  {
   "cell_type": "markdown",
   "id": "94ad028c-1dd1-47f0-b389-8cce566fea09",
   "metadata": {},
   "source": [
    "---\n",
    "\n",
    "## Benefits of Abstraction\r\n",
    "Abstraction enforces design contracts, preventing incomplete subclasses and ensuring all users provide essential methods. It combines well with polymorphism, as the abstract interface serves as a common type for mixed collections. In the Library System, this guarantees every user type has a **`status_report`**, simplifying functions like **`generate_reports`**. It also facilitates testing, as you can mock the interface without full implementations.\r\n",
    "\r\n",
    "\r\n",
    "\r\n"
   ]
  },
  {
   "cell_type": "markdown",
   "id": "a5312ca3-7bb2-4d27-ad71-dcf81aef8143",
   "metadata": {},
   "source": [
    "---\n",
    "\n",
    "## Common Pitfalls and Best Practices\n",
    "\n",
    "A frequent error is forgetting to implement an abstract method in a subclass, leading to instantiation errors—always check with issubclass(ConcreteClass, ABC) (returns True if all abstracts are covered). Another pitfall is over-abstracting simple classes, which adds unnecessary complexity; use ABCs only for interfaces shared across multiple classes.\n",
    "\n",
    "Best practices include keeping abstract methods focused on essentials (e.g., one responsibility per method) and providing concrete helper methods in the ABC for shared logic. Use abstractmethod for pure interfaces; for partial implementations, use regular methods. Document the expected interface in the ABC's docstring.\n",
    "\n"
   ]
  },
  {
   "cell_type": "code",
   "execution_count": null,
   "id": "13099297-e3cb-4ec2-ab09-b8ea10e01b51",
   "metadata": {},
   "outputs": [],
   "source": []
  }
 ],
 "metadata": {
  "kernelspec": {
   "display_name": "Python 3 (ipykernel)",
   "language": "python",
   "name": "python3"
  },
  "language_info": {
   "codemirror_mode": {
    "name": "ipython",
    "version": 3
   },
   "file_extension": ".py",
   "mimetype": "text/x-python",
   "name": "python",
   "nbconvert_exporter": "python",
   "pygments_lexer": "ipython3",
   "version": "3.12.2"
  }
 },
 "nbformat": 4,
 "nbformat_minor": 5
}
