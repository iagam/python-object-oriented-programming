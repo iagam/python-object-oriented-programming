{
 "cells": [
  {
   "cell_type": "markdown",
   "id": "1df2b59b-bbb7-40be-b027-786f54576cfb",
   "metadata": {},
   "source": [
    "# Lesson 5: Polymorphism – Flexible Behaviors Across Classes\r\n",
    "Polymorphism is the third pillar of object-oriented programming. It enables objects from different classes to be treated uniformly through a common interface, even if their internal implementations differ. This principle allows a single method call to invoke different behaviors depending on the object's class, promoting flexibility and extensibility in code. The term \"polymorphism\" derives from Greek words meaning \"many forms,\" which reflects how one method name can produce varied outcomes across classes.\n",
    "\n",
    "---\n",
    "\n",
    "## Definition and Basic Syntax\r\n",
    "In Python, polymorphism is achieved primarily through method overriding and duck typing. Method overriding, introduced in inheritance, allows subclasses to provide specific implementations of a method defined in a superclass. Duck typing means Python does not require explicit type declarations; if an object supports the needed methods (e.g., \"if it walks like a duck and quacks like a duck\"), it can be used interchangeably.<br>\n",
    "\n",
    "The syntax for polymorphism builds on inheritance: Define a method in the superclass with a generic implementation, then override it in subclasses with class-specific logic. When you call the method on an object, Python executes the version from the object's actual class. This works seamlessly with collections or functions that expect the superclass type, as subclasses are compatible.<br>\n",
    "\n",
    "Polymorphism supports code that is more modular and easier to maintain. For example, a function expecting a **`Person`** object can handle both **`Person`** and its subclasses like **`Librarian`** without modification, as long as they implement the required methods.\r\n",
    "\r\n",
    "\r\n",
    "\r\n"
   ]
  },
  {
   "cell_type": "markdown",
   "id": "4e4806b9-8dab-4c97-84ca-c451306a1636",
   "metadata": {},
   "source": [
    "---\n",
    "\n",
    "## How Polymorphism Works Step by Step\n",
    "\n",
    "When a method is called on an object, Python determines the implementation based on the object's class at runtime, not compile time. This is known as dynamic dispatch. The process follows these steps:Identify the method name in the call (e.g., **`obj.make_sound()`**). Look up the object's class and check if it defines the method. If not, traverse the inheritance chain to find the method (via method resolution order). Execute the found implementation, which may differ per class.\n",
    "\n",
    "For polymorphism to be effective, the classes should share a common method signature (name and parameters) but vary in behavior. In our Library Management System, this enables treating **`Person`**, **`Librarian`**, and future subclasses uniformly in functions like a \"greet_all_users\" that calls **`introduce()`** on each. Python also supports operator overloading as a form of polymorphism, where operators like + or == behave differently for different classes (e.g., adding two vectors). However, for this lesson, we focus on method overriding, as it directly extends our project.\n"
   ]
  },
  {
   "cell_type": "markdown",
   "id": "566df15c-3176-42ff-9920-799849676d89",
   "metadata": {},
   "source": [
    "## Example: Applying Polymorphism to the Library System\n",
    "\n",
    "Extend the **`Person`** class from previous assignments with a polymorphic greet method in the superclass. Then, override it in **`Librarian`** to include staff-specific greetings. Finally, demonstrate polymorphism by calling greet on a list of mixed objects.<br>\n",
    "Here is the code for this example, building on your **`Person`** and **`Librarian`** classes:\r\n",
    "\r\n"
   ]
  },
  {
   "cell_type": "code",
   "execution_count": 2,
   "id": "6b8b20b9-aa40-49e3-b5a7-b47411101690",
   "metadata": {},
   "outputs": [
    {
     "name": "stdout",
     "output_type": "stream",
     "text": [
      "Hello, Alice!\n",
      "Greetings from staff! I'm Jordan (ID: LIB001).\n",
      "Hello, Alice!\n",
      "Greetings from staff! I'm Jordan (ID: LIB001).\n"
     ]
    }
   ],
   "source": [
    "class Person:\n",
    "    def __init__(self, name, email):\n",
    "        self.name = name\n",
    "        self._email = email\n",
    "    \n",
    "    def greet(self):  # Polymorphic method: Generic implementation\n",
    "        return f\"Hello, {self.name}!\"\n",
    "\n",
    "class Librarian(Person):\n",
    "\n",
    "    staff_count = 0\n",
    "    \n",
    "    def __init__(self, name, email, staff_id=None):\n",
    "        super().__init__(name, email)\n",
    "        self.staff_id = staff_id or f\"LIB{str(Librarian.staff_count + 1).zfill(3)}\"\n",
    "        if not staff_id:\n",
    "            Librarian.staff_count += 1\n",
    "        self._library_inventory = []\n",
    "    \n",
    "    def greet(self):  # Override for polymorphic behavior\n",
    "        return f\"Greetings from staff! I'm {self.name} (ID: {self.staff_id}).\"\n",
    "\n",
    "# Assume Librarian.staff_count = 0 is defined as class attribute\n",
    "\n",
    "# Polymorphic usage: Treat different classes uniformly\n",
    "def welcome_user(user):  # Expects any object with greet() method\n",
    "    return user.greet()  # Calls the appropriate overridden version\n",
    "\n",
    "# Test with mixed objects\n",
    "alice = Person(\"Alice\", \"alice@email.com\")\n",
    "jordan = Librarian(\"Jordan\", \"jordan@library.com\")\n",
    "\n",
    "print(welcome_user(alice))    # Output: Hello, Alice!\n",
    "print(welcome_user(jordan))   # Output: Greetings from staff! I'm Jordan (ID: LIB1).\n",
    "\n",
    "# Or in a loop (polymorphism shines here)\n",
    "users = [alice, jordan]\n",
    "for user in users:\n",
    "    print(user.greet())  # Different behaviors automatically"
   ]
  },
  {
   "cell_type": "markdown",
   "id": "c6bc1d09-2d66-4ae2-9315-9a380921fb7e",
   "metadata": {},
   "source": [
    " "
   ]
  },
  {
   "cell_type": "markdown",
   "id": "96a1bc42-1180-4cc3-9ea1-f1baacd74ea8",
   "metadata": {},
   "source": [
    "**In this code:**\n",
    "- The **`greet`** method in **`Person`** provides a default implementation.  \n",
    "- **`Librarian`** overrides **`greet`** with staff-focused logic.  \n",
    "- The **`welcome_user`** function demonstrates polymorphism: It works with any object that has a **`greet`** method, regardless of class. Python dispatches to the correct version at runtime.  \n",
    "- The loop over **`users`** shows scalability: Adding more subclasses (e.g., **`Student`**) requires no changes to the loop or function.\n",
    "\n",
    "---"
   ]
  },
  {
   "cell_type": "markdown",
   "id": "5ecc8387-ee39-4911-9679-c810717c735c",
   "metadata": {},
   "source": [
    "## Benefits of Polymorphism\n",
    "\n",
    "Polymorphism enhances code flexibility by allowing new subclasses to be added without modifying existing code that relies on the superclass interface. This adheres to the open-closed principle: Open for extension (new behaviors via subclasses) but closed for modification (no changes to core functions).<br>\n",
    "\n",
    "In the Library System, a reporting function could call introduce on all users, and it would automatically use each class's version, handling **`Person`**, **`Librarian`**, and future types like **`Student`** seamlessly. It also simplifies testing and debugging, as common interfaces reduce the number of unique code paths. However, excessive polymorphism without clear interfaces can lead to unexpected behaviors, so document expected methods (e.g., via abstract base classes, covered in Lesson 6).\r\n",
    "\r\n"
   ]
  },
  {
   "cell_type": "markdown",
   "id": "e2b106e4-ecfa-42ce-9800-09b03937ceb5",
   "metadata": {},
   "source": [
    "---\n",
    "\n",
    "## Common Pitfalls and Best Practices\n",
    "A common issue is inconsistent method signatures across classes, which breaks polymorphism (e.g., one **`greet`** takes no args, another takes one). Always match names and parameters exactly. Another pitfall is over-reliance on duck typing without inheritance, which can make code harder to trace—prefer inheritance for related classes.\n",
    "\n",
    "Best practices include defining polymorphic methods in the superclass with a meaningful default. Use type hints (e.g., **`def welcome_user(user: Person):`**) to indicate expected interfaces, though Python enforces them softly. Test polymorphism by mixing object types in collections, as in the example loop.\n"
   ]
  },
  {
   "cell_type": "markdown",
   "id": "7e957380-4723-4a83-921a-d2257c1f1557",
   "metadata": {},
   "source": [
    "---\n",
    "\n",
    "## Hands-On Experiment\n",
    "\n",
    "Run the example code in a Python environment. Add a new subclass, such as **`Student(Person)`**, with its own **`greet`** override (e.g., **`\"Hello, I'm a student!\"`**). Then, add it to the **`users`** list and run the loop—observe how the function and loop adapt without changes. \n",
    "\n",
    "Next, modify **`welcome_user`** to call another method, like **`introduce`** if available, to see layered polymorphism.\n",
    "\n",
    "This concludes the core explanation of polymorphism. It directly enhances our Library Management System by enabling uniform treatment of users (e.g., greeting or reporting on mixed **`Person`** types). \n",
    "\n",
    "If you have questions about method overriding, duck typing, dynamic dispatch, the example code, or its application to the project, please ask. Once you are ready for the coding assignment or quiz, let me know.\n"
   ]
  },
  {
   "cell_type": "code",
   "execution_count": 3,
   "id": "404f97d8-4f45-43d8-b594-7e0419ffa559",
   "metadata": {},
   "outputs": [
    {
     "name": "stdout",
     "output_type": "stream",
     "text": [
      "Hello, Alice!\n",
      "Greetings from staff! I'm Jordan (ID: LIB001).\n",
      "Hello I am a student! My name is Sam\n",
      "Hello, Alice!\n",
      "Greetings from staff! I'm Jordan (ID: LIB001).\n",
      "Hello I am a student! My name is Sam\n"
     ]
    }
   ],
   "source": [
    "class Person:\n",
    "    def __init__(self, name, email):\n",
    "        self.name = name\n",
    "        self._email = email\n",
    "    \n",
    "    def greet(self):  # Polymorphic method: Generic implementation\n",
    "        return f\"Hello, {self.name}!\"\n",
    "\n",
    "class Librarian(Person):\n",
    "\n",
    "    staff_count = 0\n",
    "    \n",
    "    def __init__(self, name, email, staff_id=None):\n",
    "        super().__init__(name, email)\n",
    "        self.staff_id = staff_id or f\"LIB{str(Librarian.staff_count + 1).zfill(3)}\"\n",
    "        if not staff_id:\n",
    "            Librarian.staff_count += 1\n",
    "        self._library_inventory = []\n",
    "    \n",
    "    def greet(self):  # Override for polymorphic behavior\n",
    "        return f\"Greetings from staff! I'm {self.name} (ID: {self.staff_id}).\"\n",
    "\n",
    "class Student(Person):\n",
    "\n",
    "    student_count = 0\n",
    "\n",
    "    def __init__(self, name, email, student_id=None):\n",
    "        super().__init__(name, email)\n",
    "        self.student_id = student_id or f\"ST{str(Student.student_count + 1).zfill(3)}\"\n",
    "        if not student_id:\n",
    "            Student.student_count+=1\n",
    "\n",
    "    def greet(self):\n",
    "        return f\"Hello I am a student! My name is {self.name}\"\n",
    "        \n",
    "\n",
    "# Assume Librarian.staff_count = 0 is defined as class attribute\n",
    "\n",
    "# Polymorphic usage: Treat different classes uniformly\n",
    "def welcome_user(user):  # Expects any object with greet() method\n",
    "    return user.greet()  # Calls the appropriate overridden version\n",
    "\n",
    "# Test with mixed objects\n",
    "alice = Person(\"Alice\", \"alice@email.com\")\n",
    "jordan = Librarian(\"Jordan\", \"jordan@library.com\")\n",
    "sam = Student(\"Sam\", \"sam@student.com\")\n",
    "\n",
    "print(welcome_user(alice))    # Output: Hello, Alice!\n",
    "print(welcome_user(jordan))   # Output: Greetings from staff! I'm Jordan (ID: LIB1).\n",
    "print(welcome_user(sam))\n",
    "\n",
    "# Or in a loop (polymorphism shines here)\n",
    "users = [alice, jordan, sam]\n",
    "for user in users:\n",
    "    print(user.greet())  # Different behaviors automatically"
   ]
  },
  {
   "cell_type": "code",
   "execution_count": null,
   "id": "9508a780-18eb-4367-b003-66f859504520",
   "metadata": {},
   "outputs": [],
   "source": []
  }
 ],
 "metadata": {
  "kernelspec": {
   "display_name": "Python 3 (ipykernel)",
   "language": "python",
   "name": "python3"
  },
  "language_info": {
   "codemirror_mode": {
    "name": "ipython",
    "version": 3
   },
   "file_extension": ".py",
   "mimetype": "text/x-python",
   "name": "python",
   "nbconvert_exporter": "python",
   "pygments_lexer": "ipython3",
   "version": "3.12.2"
  }
 },
 "nbformat": 4,
 "nbformat_minor": 5
}
