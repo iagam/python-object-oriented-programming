{
 "cells": [
  {
   "cell_type": "markdown",
   "id": "4bc9327d-c9cc-4381-87dd-4d5fada12b0c",
   "metadata": {},
   "source": [
    "# Lesson 4: Inheritance – Building Hierarchies of Classes\n",
    "\n",
    "Inheritance is one of the four core pillars of object-oriented programming. It allows a new class, known as a subclass or child class, to inherit attributes and methods from an existing class, known as a superclass or parent class. This mechanism enables the creation of a hierarchical structure where the subclass extends or modifies the behavior of the superclass. The primary goal of inheritance is to promote code reuse and maintainability by avoiding the repetition of common code across related classes.\n",
    "\n",
    "---\n",
    "\r\n",
    "\r\n",
    "\r\n",
    "\r\n",
    "\n",
    "\n",
    "\r\n"
   ]
  },
  {
   "cell_type": "markdown",
   "id": "cdbe4f80-37c1-4457-aa3f-1b73755ef3aa",
   "metadata": {},
   "source": [
    "## Definition and Basic Syntax\n",
    "\n",
    "In Python, inheritance is declared by placing the name of the superclass in parentheses after the subclass name. For example, the syntax is `class SubclassName(SuperclassName):`. This tells Python that the subclass inherits all the attributes and methods defined in the superclass. The subclass can then add new attributes and methods, override existing ones from the superclass, or extend them by calling the superclass's versions.The superclass provides a foundation of shared functionality. For instance, if the superclass is `Person`, which includes attributes like `name` and methods like `introduce`, a subclass such as `Student` can inherit these while adding specific features like `student_id`. This relationship follows an \"is-a\" pattern: a `Student` is a type of `Person`.\n",
    "\n",
    "---\n",
    "\n",
    "## How Inheritance Works Step by Step\n",
    "When you create an instance of a subclass, Python first checks the subclass for the requested attribute or method. If it is not found there, Python looks in the superclass, and this search continues up the inheritance chain if there are multiple levels. This process is called the method resolution order (MRO), which Python determines automatically.To access the superclass's methods or attributes from the subclass, you use the `super()` function. This function returns a proxy object that delegates to the superclass. For example, in the subclass's `__init__` method, you call `super().__init__()` to execute the superclass's initializer before or after adding subclass-specific code. This ensures that the inherited attributes are properly set up. Overriding occurs when the subclass defines a method with the same name as one in the superclass. The subclass's version replaces the superclass's version for instances of the subclass. However, you can still invoke the superclass's version using `super().method_name()` if needed. This allows the subclass to customize behavior while reusing parts of the original.\n",
    "\n",
    "---"
   ]
  },
  {
   "cell_type": "markdown",
   "id": "4fce645a-3a2a-4773-9d26-7d27bdd3712a",
   "metadata": {},
   "source": [
    "## Example: Extending the Person Class\r\n",
    "Consider the `Person` class from previous assignments, which has a constructor `__init__` for setting `name` and `email`, and an `introduce` method. Now, create a `Librarian` subclass that inherits from `Person`. The `Librarian` will add a `staff_id` attribute and override `introduce` to include staff details.\n",
    "\n",
    "Here is the code for this example:\r\n",
    "\r\n"
   ]
  },
  {
   "cell_type": "code",
   "execution_count": 1,
   "id": "1a382b11-24a8-4434-bdf8-02264e21ec8d",
   "metadata": {},
   "outputs": [
    {
     "name": "stdout",
     "output_type": "stream",
     "text": [
      "Hi, I'm Jordan. Staff ID: STAFF001\n",
      "Jordan\n"
     ]
    }
   ],
   "source": [
    "class Person:\n",
    "    def __init__(self, name, email):\n",
    "        self.name = name\n",
    "        self._email = email  # Protected attribute from encapsulation\n",
    "    \n",
    "    def introduce(self):\n",
    "        return f\"Hi, I'm {self.name}.\"\n",
    "\n",
    "\n",
    "class Librarian(Person):\n",
    "\n",
    "    def __init__(self, name, email, staff_id):\n",
    "        super().__init__(name, email)  # Call superclass constructor to set name and email\n",
    "        self.staff_id = staff_id # Add subclass-specific attribute\n",
    "\n",
    "    def introduce(self):  # Override the superclass method\n",
    "        parent_intro = super().introduce()  # Get the superclass's introduction\n",
    "        return f\"{parent_intro} Staff ID: {self.staff_id}\"\n",
    "\n",
    "# Create and test an instance\n",
    "librarian = Librarian(\"Jordan\", \"jordan@library.com\", \"STAFF001\")\n",
    "print(librarian.introduce())  # Output: Hi, I'm Jordan. Staff ID: STAFF001\n",
    "print(librarian.name)         # Inherited attribute: Jordan"
   ]
  },
  {
   "cell_type": "markdown",
   "id": "f72db2ff-08cc-4899-bd2f-c3722e857f69",
   "metadata": {},
   "source": [
    "\n",
    "**In this code:**\n",
    "\n",
    "- The `Librarian` class inherits from `Person`, so it automatically has access to `name` and `_email`. \n",
    "- In `Librarian.__init__`, `super().__init__(name, email)` runs the `Person` constructor to initialize the inherited attributes. \n",
    "- The `introduce` method in `Librarian` overrides the one in `Person`. It calls the superclass version with `super().introduce()` and appends the new detail. \n",
    "- When you create librarian, it behaves like a `Person` for inherited features but includes the subclass extensions.\n",
    "\n",
    "--- \n"
   ]
  },
  {
   "cell_type": "markdown",
   "id": "d7823a4a-8f1a-4ec9-9d57-833513bb3d15",
   "metadata": {},
   "source": [
    "# Types of Inheritance in Python\n",
    "\n",
    "Python supports several forms of inheritance:\n",
    "\n",
    "1. **Single Inheritance**: A subclass inherits from one superclass, as in the example above. This is the simplest and most common form.  \n",
    "2. **Multilevel Inheritance**: A subclass inherits from another subclass, forming a chain (e.g., `Grandchild` inherits from `Child`, which inherits from `Parent`).  \n",
    "3. **Hierarchical Inheritance**: Multiple subclasses inherit from the same superclass (e.g., both `Student` and `Librarian` inherit from `Person`).  \n",
    "4. **Multiple Inheritance**: A subclass inherits from more than one superclass (e.g., `class AmphibiousVehicle(Car, Boat):`). Python uses the `C3 linearization algorithm` to resolve conflicts in the MRO. Use this sparingly, as it can lead to diamond problems where the same superclass is inherited through multiple paths.  \n",
    "\n",
    "For our **Library Management System**, single and hierarchical inheritance will be sufficient. For example, `Student` and `Librarian` can both inherit from `Person`.\n",
    "\n",
    "---\n",
    "\n",
    "## Key Benefits of Inheritance\n",
    "\n",
    "Inheritance reduces code duplication by centralizing common functionality in the superclass. Any updates to the superclass, such as adding a new method, automatically apply to all subclasses. It also organizes code logically, reflecting real-world relationships, which makes the system easier to understand and extend. However, inheritance should be used judiciously; if the relationship is \"has-a\" rather than \"is-a,\" prefer composition (e.g., `Person` has a list of `Book` objects via `_books_checked_out`).\n",
    "\n",
    "---\n",
    "\n",
    "## Common Pitfalls and Best Practices\n",
    "\n",
    "A frequent error is omitting `super().__init__()` in the subclass constructor, which results in inherited attributes not being initialized. Always include it to ensure the superclass setup runs. Another issue is overriding without calling `super()`, which can discard useful superclass logic, such as validation in properties.\n",
    "\n",
    "To check the inheritance hierarchy, use the `issubclass()` function (e.g., `issubclass(Librarian, Person)` returns True) or `isinstance()` (e.g., `isinstance(librarian, Person)` returns True). These help verify relationships during development.\n",
    "\n",
    "In terms of access control, inherited attributes retain their protection levels. For example, if `Person` has a protected `_email`, subclasses can access it directly, but external code should use the property.\n"
   ]
  },
  {
   "cell_type": "code",
   "execution_count": null,
   "id": "9cab495b-704a-4f14-a2e7-155c7fe3c14e",
   "metadata": {},
   "outputs": [],
   "source": []
  }
 ],
 "metadata": {
  "kernelspec": {
   "display_name": "Python 3 (ipykernel)",
   "language": "python",
   "name": "python3"
  },
  "language_info": {
   "codemirror_mode": {
    "name": "ipython",
    "version": 3
   },
   "file_extension": ".py",
   "mimetype": "text/x-python",
   "name": "python",
   "nbconvert_exporter": "python",
   "pygments_lexer": "ipython3",
   "version": "3.12.2"
  }
 },
 "nbformat": 4,
 "nbformat_minor": 5
}
