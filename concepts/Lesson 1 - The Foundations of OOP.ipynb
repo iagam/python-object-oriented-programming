{
 "cells": [
  {
   "cell_type": "markdown",
   "id": "b3bc16ca-3158-4994-b491-ac2a886d360c",
   "metadata": {},
   "source": [
    "# Lesson 1: The Foundations of OOP\n",
    "\n",
    "---\n",
    "\n",
    "## What is Object-Oriented Programming (OOP)?\n",
    "\n",
    "OOP is a programming paradigm (a style or approach to writing code) that organizes software design around objects rather than functions and logic alone. Think of it like building with LEGO bricks: instead of scattering pieces everywhere, you create reusable \"bricks\" (objects) that snap together to form complex structures (your program).\n",
    "\n",
    "- **Paradigm Breakdown:** Programming has styles like procedural (step-by-step instructions, e.g., \"do this, then that\") or functional (focus on functions transforming data). OOP shifts focus to data and behavior bundled together.\n",
    "\n",
    "\n",
    "- **Why OOP?**\n",
    "\n",
    "    Real-world problems are messy and interconnected. OOP models them naturally:\n",
    "    \n",
    "    - **Modularity:** Break code into self-contained pieces (easier to maintain).\n",
    "    - **Reusability:** Write once, use many times (e.g., a \"Car\" class for multiple vehicles).\n",
    "    - **Scalability:** Big projects (like games or apps) stay manageable.\n",
    "    - **Abstraction:** Hide complex details, show only what's needed (like driving a car without knowing engine internals).\n",
    "\n",
    "In Python, everything is an object under the hood—even numbers and strings! But we'll explicitly use OOP to structure our code.\n",
    "\n",
    "---\n",
    "\n",
    "## Core Pillars of OOP (We'll Dive Deeper Later)\n",
    "\n",
    "OOP rests on four main principles (the \"pillars\"). Don't worry—we'll cover each in future lessons with examples. For now, here are the high-level definitions:\n",
    "\n",
    "- **Encapsulation:** Bundling data (attributes) and methods (functions) into a single unit (class), and controlling access to them (like a capsule protecting its contents).\n",
    "- **Inheritance:** Creating new classes based on existing ones, inheriting their properties (like a `SportsCar` inheriting from `Car`).\n",
    "- **Polymorphism:** Objects of different classes responding to the same method call in their own way (e.g., `make_sound()` → Dog says \"Woof!\" but Cat says \"Meow!\").\n",
    "- **Abstraction:** Hiding implementation details, exposing only essentials (using abstract classes or interfaces).\n",
    "\n",
    "These aren't just buzzwords—they solve real problems like **code duplication** and **tight coupling**.\n",
    "\n",
    "---\n",
    "\n",
    "## Procedural vs. OOP: A Quick Analogy\n",
    "\n",
    "Imagine managing a zoo:\n",
    "\n",
    "- **Procedural Style:**  \n",
    "  A long script with functions like `feed_animal(name, food)` and variables like `lion_hunger = 10`.  \n",
    "  It's like a recipe list—works for small zoos but gets chaotic with 100 animals (functions scattered, data everywhere).\n",
    "\n",
    "- **OOP Style:**  \n",
    "  Define an `Animal` class. Each animal (object) has its own `hunger` attribute and a `feed(food)` method.  \n",
    "  Instantiate lions, tigers, etc.—now scaling to 100 is easy, and each animal *\"knows\"* how to behave.\n",
    "\n",
    "This leads us to the first building blocks: **Classes and Objects**.\n",
    "\n",
    "---"
   ]
  },
  {
   "cell_type": "markdown",
   "id": "c7202a82-fc8c-4f53-b33e-34226e36a932",
   "metadata": {},
   "source": [
    "## Concept 1: Classes – The Blueprints\n",
    "\n",
    "A **class** is a template or blueprint for creating objects. It defines:\n",
    "\n",
    "- **Attributes** (data/properties, like variables): What the object has.  \n",
    "- **Methods** (behaviors/functions): What the object does.  \n",
    "\n",
    "### Definition Breakdown\n",
    "\n",
    "- **Class name:** Usually written in PascalCase (e.g., `MyClass`).<br>\n",
    "- **Syntax:**\n",
    "  ```python\n",
    "  class ClassName:\n",
    "      # attributes and methods go here\n",
    "\n",
    "**Simple Example**\n",
    "\n",
    "Let's create a Dog class.\n",
    "A dog has a name (attribute) and can bark (method):"
   ]
  },
  {
   "cell_type": "code",
   "execution_count": 4,
   "id": "a560eb99-7c9e-4aea-8c23-b0ea3c0475e8",
   "metadata": {},
   "outputs": [
    {
     "name": "stdout",
     "output_type": "stream",
     "text": [
      "Buddy\n",
      "Canine\n",
      "canis familiaris\n",
      "Buddy says Woof!\n"
     ]
    }
   ],
   "source": [
    "# Example\n",
    "\n",
    "class Dog():\n",
    "\n",
    "    # Attribute (shared by all instances for now; we'll make unique ones later)\n",
    "    species = \"Canine\"                            # Class attribute: same for all dogs\n",
    "    biological_name = \"canis familiaris\"          # Class attribute: same for all dogs\n",
    "\n",
    "    # Constructor: Special method to initialize new objects\n",
    "    def __init__(self, name):\n",
    "        # Instance attribute: Unique to each dog\n",
    "        self.name = name\n",
    "\n",
    "    # Method: Behavior\n",
    "    def bark(self):\n",
    "        return f\"{self.name} says Woof!\"\n",
    "\n",
    "# Creating objects (we'll explain this next)\n",
    "my_dog = Dog(\"Buddy\")\n",
    "\n",
    "print(my_dog.name)\n",
    "print(my_dog.species)\n",
    "print(my_dog.biological_name)\n",
    "print(my_dog.bark())"
   ]
  },
  {
   "cell_type": "markdown",
   "id": "1d06f922-9ee3-44fe-97ad-fbe4d6cd78b7",
   "metadata": {},
   "source": [
    "## Line-by-Line Breakdown\n",
    "\n",
    "**`class Dog:`** – Declares the blueprint.<br>\n",
    "**`species = \"Canine\"`** – Class attribute (static, shared across all Dog objects).<br>\n",
    "**`def __init__(self, name):`** – The initializer (called automatically when creating an object). self is a reference to the instance being created. name is a parameter.<br>\n",
    "**`self.name = name`** – Sets an instance attribute (unique per object).<br>\n",
    "**`def bark(self):`** – A method. self lets it access the object's attributes.<br>\n",
    "**`my_dog = Dog(\"Buddy\")`** – Instantiates (creates) an object from the class, passing \"Buddy\" to `__init__`__.\r\n",
    "\r"
   ]
  },
  {
   "cell_type": "markdown",
   "id": "df22a115-84ac-4ed4-8385-4c5e456985b0",
   "metadata": {},
   "source": [
    "---\n",
    "## Concept 2: Objects – The Instances\n",
    "\n",
    "An **object** (or instance) is a concrete realization of a class—like a house built from a blueprint. Multiple objects can come from one class, each with their own data.\n",
    "\n",
    "**Definition Breakdown:**\n",
    "\n",
    "- **Instantiation:** `object_name = ClassName(arguments)`  \n",
    "- Each object gets its own copy of **instance attributes**.  \n",
    "- Objects can interact via **methods**.\n",
    "\n",
    "**Extending the Example:**\n"
   ]
  },
  {
   "cell_type": "code",
   "execution_count": 9,
   "id": "58293a8a-b929-4bdd-ac84-9f0937aecb5b",
   "metadata": {},
   "outputs": [
    {
     "name": "stdout",
     "output_type": "stream",
     "text": [
      "Buddy\n",
      "Max\n",
      "Fluffy friend\n",
      "Fluffy friend\n",
      "Buddy says Woof!\n",
      "Max says Woof!\n",
      "Canine\n",
      "Canine\n"
     ]
    }
   ],
   "source": [
    "class Dog:\n",
    "    \n",
    "    species = \"Canine\"\n",
    "    biological_name = \"canis familiaris\" \n",
    "    \n",
    "    def __init__(self, name):\n",
    "        self.name = name\n",
    "        self.description = \"Fluffy friend\"\n",
    "    \n",
    "    def bark(self):\n",
    "        return f\"{self.name} says Woof!\"\n",
    "\n",
    "# Create two objects\n",
    "dog1 = Dog(\"Buddy\")\n",
    "dog2 = Dog(\"Max\")\n",
    "\n",
    "print(dog1.name)     # Output: Buddy\n",
    "print(dog2.name)       # Output: Max\n",
    "print(dog1.description)     \n",
    "print(dog2.description)       \n",
    "print(dog1.bark())   # Output: Buddy says Woof!\n",
    "print(dog2.bark())     # Output: Max says Woof!\n",
    "print(dog1.species)  # Output: Canine (shared)\n",
    "print(dog2.species)  # Output: Canine (shared)"
   ]
  },
  {
   "cell_type": "markdown",
   "id": "97cfceda-66ff-438e-b3c1-deee9078086b",
   "metadata": {},
   "source": [
    "**`Key Insight:`** buddy and max are separate objects. Changing `dog1.name` doesn't affect `dog2`. But species is shared (we'll discuss class vs. instance attributes more later).<br>\n",
    "**`Common Pitfall:`** Forgetting self in methods—it's how the object accesses its own data!\r\n"
   ]
  },
  {
   "cell_type": "code",
   "execution_count": null,
   "id": "55d1c97b-60cf-4976-b889-90259c2bec7a",
   "metadata": {},
   "outputs": [],
   "source": []
  },
  {
   "cell_type": "code",
   "execution_count": null,
   "id": "cec88c17-47a4-41df-a2d6-e17282b80705",
   "metadata": {},
   "outputs": [],
   "source": []
  }
 ],
 "metadata": {
  "kernelspec": {
   "display_name": "Python 3 (ipykernel)",
   "language": "python",
   "name": "python3"
  },
  "language_info": {
   "codemirror_mode": {
    "name": "ipython",
    "version": 3
   },
   "file_extension": ".py",
   "mimetype": "text/x-python",
   "name": "python",
   "nbconvert_exporter": "python",
   "pygments_lexer": "ipython3",
   "version": "3.12.2"
  }
 },
 "nbformat": 4,
 "nbformat_minor": 5
}
