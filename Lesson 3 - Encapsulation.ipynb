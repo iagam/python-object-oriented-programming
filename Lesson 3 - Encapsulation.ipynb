{
 "cells": [
  {
   "cell_type": "markdown",
   "id": "c73bf2c6-6727-42cf-a6d8-3faf00bb70e8",
   "metadata": {},
   "source": [
    "# Lesson 3: Encapsulation - Protecting Your Object's Secrets\n",
    "\n",
    "---\r\n",
    "\r",
    "## What is Encapsulation? (Pillar #1 Deep Dive)\n",
    "\n",
    "Encapsulation is the OOP principle of **bundling data (attributes) and methods** together in a class, while *restricting direct access* to some internals. It’s like a vitamin capsule: you get the goodness (methods expose safe interactions), but you can’t poke inside without breaking it open (bad idea!).\n",
    "\n",
    "### Definition Breakdown\n",
    "- **Bundling:** Everything related to an object lives in its class—no scattered global vars.  \n",
    "- **Access Control:** Hide \"private\" data to prevent accidental (or malicious) changes. Expose only through controlled methods (getters/setters).  \n",
    "\n",
    "### Why It Matters\n",
    "- Real code is collaborative—encapsulation prevents bugs from one part messing up another’s data.  \n",
    "- Enforces rules (e.g., email must be valid).  \n",
    "- Makes refactoring easier (change internals without breaking external code).  \n",
    "\n",
    "### Python's Take\n",
    "- Python doesn’t enforce strict privacy (it’s *“we’re all consenting adults”*).  \n",
    "- Instead, it uses **conventions and syntax** for hints.  \n",
    "- No `private` keyword like Java/C++.\n",
    "\n",
    "---\n",
    "\r\n",
    "\r\n"
   ]
  },
  {
   "cell_type": "markdown",
   "id": "e6603da8-1618-455d-a629-0691d12fb5a1",
   "metadata": {},
   "source": [
    "### Levels of Access (Conventions):\n",
    "\n",
    "1. **Public**: No prefix (e.g., **`self.name`**). Free-for-all—accessible from anywhere.\n",
    "2. **Protected**: Single underscore **`_`** (e.g., **`_energy`**). Convention: \"Internal to class/subclasses—don't touch from outside.\" Still accessible, but a polite \"keep out\" sign.\n",
    "3. **Private**: Double underscore **`__`** (e.g., **`__secret`**). Name mangling: Python rewrites to **`_ClassName__secret`** to avoid subclass clashes. Harder to access accidentally, but not impossible (e.g., **`obj._ClassName__secret`**).\n",
    "\n",
    "**Analogy**: Public = front door (welcome in). Protected = backyard (family only). Private = safe in the basement (you, but scrambled lock for intruders).\n",
    "\n",
    "**Key Insight**: Encapsulation isn't just hiding—it's controlled exposure. Use methods to validate/read/write data safely.y.\r\n",
    "\r\n"
   ]
  },
  {
   "cell_type": "markdown",
   "id": "09c3aa05-4766-4969-a1a0-b1083e492f2e",
   "metadata": {},
   "source": [
    "---\n",
    "\n",
    "## Implementing Encapsulation: Getters, Setters, and Properties\n",
    "\n",
    "Direct attr access is simple but risky (e.g., set age to -5?). Solution: Methods for interaction.\n",
    "\n",
    "- **Getter**: Method to read an attr (often named `get_attribute()`).\n",
    "- **Setter**: Method to write an attr (`set_attribute(value)`, with validation).\n",
    "- **Property Decorator**: Python's elegant way—makes methods act like attrs (`@property` for getter, `@attribute.setter` for setter). No parens needed: `obj.age` instead of `obj.get_age()`."
   ]
  },
  {
   "cell_type": "markdown",
   "id": "276ca770-a2fb-4812-89cb-56d03f5637dc",
   "metadata": {},
   "source": [
    "---\n",
    "### What is a Getter?\n",
    "\n",
    "A getter is a method that provides read access to an attribute.\n",
    "It lets you retrieve the value of an attribute without allowing direct access to the attribute itself.\n",
    "The purpose of a getter is to add logic when reading the value, such as formatting or computing it on the fly.\n",
    "It helps protect the internal storage of the attribute.\n",
    "\n",
    "Here is a simple example using a plain method as a getter:"
   ]
  },
  {
   "cell_type": "code",
   "execution_count": 3,
   "id": "29bc57c7-cc9a-4c01-865e-814ddb6c724e",
   "metadata": {},
   "outputs": [
    {
     "name": "stdout",
     "output_type": "stream",
     "text": [
      "BUDDY\n"
     ]
    }
   ],
   "source": [
    "class Dog:\n",
    "    def __init__(self, name):\n",
    "        self._name = name  # Internal storage (protected attribute)\n",
    "    \n",
    "    def get_name(self):  # Plain getter method\n",
    "        return self._name.upper()  # Adds logic: returns uppercase\n",
    "\n",
    "# Usage\n",
    "buddy = Dog(\"buddy\")\n",
    "print(buddy.get_name())  # Output: BUDDY"
   ]
  },
  {
   "cell_type": "markdown",
   "id": "bd47c2d1-8e40-45a6-ba31-8f02bb0e7176",
   "metadata": {},
   "source": [
    "In this code:\n",
    "\n",
    "- The getter `get_name` reads `self._name` and applies uppercase formatting.\n",
    "- \n",
    "You call it with parentheses:` buddy.get_name(`)\n",
    "- \r\n",
    "Direct access lik`e print(buddy._nam`e) is discouraged because it bypasses the logic.\r\n",
    "\r"
   ]
  },
  {
   "cell_type": "markdown",
   "id": "6f9d2ece-9669-4384-9d86-2712a9fdcbf7",
   "metadata": {},
   "source": [
    "---\n",
    "### What is a Setter?\n",
    "A setter is a method that provides write access to an attribute. It lets you update the value of an attribute, but with added logic such as validation. The purpose of a setter is to ensure the new value meets certain rules before storing it. This prevents invalid data from entering the object.\n",
    "\n",
    "Here is a simple example using a plain method as a setter:\r\n"
   ]
  },
  {
   "cell_type": "code",
   "execution_count": 4,
   "id": "63ac98d0-9614-4c25-b747-ddc1db11700d",
   "metadata": {},
   "outputs": [
    {
     "name": "stdout",
     "output_type": "stream",
     "text": [
      "Name updated successfully.\n"
     ]
    }
   ],
   "source": [
    "class Dog:\n",
    "    def __init__(self, name):\n",
    "        self._name = name  # Internal storage\n",
    "    \n",
    "    def set_name(self, new_name):  # Plain setter method\n",
    "        if len(new_name) > 0:  # Validation: must not be empty\n",
    "            self._name = new_name\n",
    "            return \"Name updated successfully.\"\n",
    "        else:\n",
    "            raise ValueError(\"Name cannot be empty.\")\n",
    "\n",
    "# Usage\n",
    "buddy = Dog(\"buddy\")\n",
    "print(buddy.set_name(\"max\"))  # Output: Name updated successfully.\n",
    "# buddy.set_name(\"\")  # Raises ValueError"
   ]
  },
  {
   "cell_type": "markdown",
   "id": "a5daefcf-38ef-43c4-8554-964e92572c44",
   "metadata": {},
   "source": [
    "In this code:\n",
    "\n",
    "- The setter set_name checks the length of `new_name`.\n",
    "- If valid, it updates `self._name`.\n",
    "- You call it with parentheses and a value: `buddy.set_name(\"max\")`.\n",
    "- Without a setter, you could set invalid values directly, which breaks the object's rules.\n",
    "\n"
   ]
  },
  {
   "cell_type": "markdown",
   "id": "bc709d1a-9930-4c25-9707-bb93de637aba",
   "metadata": {},
   "source": [
    "---\n",
    "### What is a Property?\n",
    "\n",
    "A property combines a getter and a setter into a single interface that acts like a regular attribute. It uses the @property decorator to make methods look and behave like attributes. The purpose of a property is to provide clean access (no parentheses needed) while still applying getter and setter logic. It is more elegant than plain methods because it hides the method calls.\n",
    "\n",
    "Here is a simple example with both getter and setter as a property:\r\n",
    "\r\n"
   ]
  },
  {
   "cell_type": "code",
   "execution_count": 5,
   "id": "6d198b0b-ca2e-4e32-a192-81897eaabede",
   "metadata": {},
   "outputs": [
    {
     "name": "stdout",
     "output_type": "stream",
     "text": [
      "BUDDY\n",
      "MAX\n"
     ]
    }
   ],
   "source": [
    "class Dog:\n",
    "    def __init__(self, name):\n",
    "        self._name = name  # Internal storage\n",
    "    \n",
    "    @property\n",
    "    def name(self):  # Getter as property\n",
    "        return self._name.upper()\n",
    "    \n",
    "    @name.setter\n",
    "    def name(self, new_name):  # Setter linked to the property\n",
    "        if len(new_name) > 0:\n",
    "            self._name = new_name\n",
    "        else:\n",
    "            raise ValueError(\"Name cannot be empty.\")\n",
    "\n",
    "# Usage\n",
    "buddy = Dog(\"buddy\")\n",
    "print(buddy.name)       # Output: BUDDY (no parentheses, calls getter)\n",
    "buddy.name = \"max\"      # Updates via setter (no parentheses)\n",
    "print(buddy.name)       # Output: MAX\n",
    "# buddy.name = \"\"      # Raises ValueError"
   ]
  },
  {
   "cell_type": "markdown",
   "id": "9bb205bb-8f28-467b-982b-2fedda33a74c",
   "metadata": {},
   "source": [
    "In this code:\n",
    "\n",
    "- `@property` turns **name** into a getter that you access like `buddy.name`.\n",
    "- `@name.setter` links the setter to the same name.\n",
    "- Reading (`buddy.name`) calls the getter automatically.\n",
    "- Writing (`buddy.name = \"value\"`) calls the setter automatically.\n",
    "- The internal `_name` stays protected; users interact only with namee.\r\n",
    "\r"
   ]
  },
  {
   "cell_type": "markdown",
   "id": "5da98db4-398c-4621-b455-3a1b2227d0bc",
   "metadata": {},
   "source": [
    "### Key Differences and When to Use Each\n",
    "\n",
    "- **Plain Getter/Setter:** Use for simple cases or when you want explicit method names like `get_name()`. They require parentheses.  \n",
    "- **Property:** Use for most cases because it feels like direct attribute access (`buddy.name`) but adds protection. It is the standard in Python for encapsulation.  \n",
    "- All three store data in a protected attribute like `_name`. They prevent direct changes like `buddy._name = \"invalid\"`.\n",
    "\r\n",
    "\r"
   ]
  },
  {
   "cell_type": "markdown",
   "id": "5edef221-5c64-4743-ac97-06af0a61b33d",
   "metadata": {},
   "source": [
    "### Updated Dog Example (Encapsulating age and _energy):  \n",
    "We'll make `age` read-only (getter only, no setter) and `energy` fully controlled via property.\n"
   ]
  },
  {
   "cell_type": "code",
   "execution_count": 2,
   "id": "46026cb0-0eba-48c4-a29c-e89a84ad4714",
   "metadata": {},
   "outputs": [
    {
     "name": "stdout",
     "output_type": "stream",
     "text": [
      "3\n",
      "3\n",
      "75\n",
      "Buddy is now 4 years old!\n"
     ]
    }
   ],
   "source": [
    "class Dog:\n",
    "    species = \"Canine\"\n",
    "    total_dogs = 0\n",
    "    \n",
    "    def __init__(self, name, age):\n",
    "        self.name = name\n",
    "        self.__age = age  # Private: Direct access mangled to _Dog__age\n",
    "        self._energy = 100  # Protected\n",
    "        Dog.total_dogs += 1\n",
    "    \n",
    "    # Getter for age (read-only)\n",
    "    @property\n",
    "    def age(self):\n",
    "        return self.__age\n",
    "    \n",
    "    # No setter — age is immutable post-creation!\n",
    "    \n",
    "    # Property for energy (getter + setter)\n",
    "    @property\n",
    "    def energy(self):\n",
    "        return self._energy\n",
    "    \n",
    "    @energy.setter\n",
    "    def energy(self, value):\n",
    "        if 0 <= value <= 100:\n",
    "            self._energy = value\n",
    "        else:\n",
    "            raise ValueError(\"Energy must be 0-100%\")\n",
    "    \n",
    "    def birthday(self):\n",
    "        self.__age += 1  # Internal access OK\n",
    "        return f\"{self.name} is now {self.age} years old!\"  # Uses property\n",
    "    \n",
    "    def play(self, minutes):\n",
    "        self.energy -= minutes * 5  # Uses setter (auto-validates)\n",
    "        if self.energy < 0:\n",
    "            self.energy = 0\n",
    "        return f\"{self.name} played. Energy: {self.energy}%\"\n",
    "\n",
    "# Test encapsulation\n",
    "buddy = Dog(\"Buddy\", 3)\n",
    "print(buddy.age)          # 3 (via getter)\n",
    "# print(buddy.__age)     # AttributeError: No __age (mangled)\n",
    "print(buddy._Dog__age)    # 3 (forced access—don't do this!)\n",
    "# buddy.age = 10        # AttributeError: No setter\n",
    "buddy.energy = 75         # Sets via setter\n",
    "print(buddy.energy)       # 75\n",
    "#buddy.energy = 150        # ValueError: Invalid!\n",
    "print(buddy.birthday())   # Buddy is now 4 years old!"
   ]
  },
  {
   "cell_type": "code",
   "execution_count": null,
   "id": "2b8ea0b0-0bd8-4fc7-ae7b-7e83c3306e86",
   "metadata": {},
   "outputs": [],
   "source": []
  }
 ],
 "metadata": {
  "kernelspec": {
   "display_name": "Python 3 (ipykernel)",
   "language": "python",
   "name": "python3"
  },
  "language_info": {
   "codemirror_mode": {
    "name": "ipython",
    "version": 3
   },
   "file_extension": ".py",
   "mimetype": "text/x-python",
   "name": "python",
   "nbconvert_exporter": "python",
   "pygments_lexer": "ipython3",
   "version": "3.12.2"
  }
 },
 "nbformat": 4,
 "nbformat_minor": 5
}
